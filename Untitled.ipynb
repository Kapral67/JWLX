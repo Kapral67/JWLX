{
 "cells": [
  {
   "cell_type": "code",
   "execution_count": 9,
   "metadata": {},
   "outputs": [
    {
     "name": "stdout",
     "output_type": "stream",
     "text": [
      "http://localhost:8888/files/JWLSout/refresh.html"
     ]
    }
   ],
   "source": [
    "RandomGraph@{120,120} // HoldForm // refresh[#,.1]&"
   ]
  },
  {
   "cell_type": "code",
   "execution_count": 5,
   "metadata": {},
   "outputs": [
    {
     "name": "stdout",
     "output_type": "stream",
     "text": [
      "4"
     ]
    }
   ],
   "source": [
    "2+2"
   ]
  },
  {
   "cell_type": "code",
   "execution_count": null,
   "metadata": {},
   "outputs": [],
   "source": []
  }
 ],
 "metadata": {
  "kernelspec": {
   "display_name": "JWLS_2",
   "language": "text",
   "name": "jwls_2"
  },
  "language_info": {
   "codemirror_mode": "mathematica",
   "file_extension": ".wl",
   "mimetype": "text/x-mathematica",
   "name": "WolframScript"
  }
 },
 "nbformat": 4,
 "nbformat_minor": 2
}
