{
 "cells": [
  {
   "cell_type": "code",
   "execution_count": 47,
   "metadata": {},
   "outputs": [
    {
     "name": "stdout",
     "output_type": "stream",
     "text": [
      "http://localhost:8888/files/JWLSout/manipulate.html"
     ]
    }
   ],
   "source": [
    "manipulate1[\n",
    " Graphics[{Hue[r/10], Disk[{0,0},r]}\n",
    "          , PlotRange -> {{-10,10},{-10,10}}]\n",
    ",{r,1,10}]"
   ]
  },
  {
   "cell_type": "code",
   "execution_count": 11,
   "metadata": {},
   "outputs": [
    {
     "name": "stdout",
     "output_type": "stream",
     "text": [
      "http://localhost:8888/files/JWLSout/refresh.html"
     ]
    }
   ],
   "source": [
    "{RandomColor[], Disk[]}//Graphics//HoldForm//refresh[#,.1]&"
   ]
  },
  {
   "cell_type": "code",
   "execution_count": 7,
   "metadata": {},
   "outputs": [
    {
     "name": "stdout",
     "output_type": "stream",
     "text": [
      "{232, 153}"
     ]
    }
   ],
   "source": [
    "ByteCount /@ {#,BinarySerialize@#}& [{RandomColor[], Disk[]}//Graphics//HoldForm]"
   ]
  },
  {
   "cell_type": "code",
   "execution_count": 18,
   "metadata": {},
   "outputs": [
    {
     "name": "stdout",
     "output_type": "stream",
     "text": [
      "<?xml version=\"1.0\" encoding=\"UTF-8\"?>\n",
      "<svg xmlns=\"http://www.w3.org/2000/svg\" xmlns:xlink=\"http://www.w3.org/1999/xlink\" width=\"360pt\" height=\"359pt\" viewBox=\"0 0 360 359\" version=\"1.1\">\n",
      "<g id=\"surface533\">\n",
      "<path style=\" stroke:none;fill-rule:evenodd;fill:rgb(66.119385%,94.10553%,91.522217%);fill-opacity:1;\" d=\"M 351.820312 179.210938 C 351.820312 133.511719 333.664062 89.679688 301.347656 57.363281 C 269.03125 25.046875 225.203125 6.894531 179.5 6.894531 C 133.796875 6.894531 89.96875 25.046875 57.652344 57.363281 C 25.335938 89.679688 7.179688 133.511719 7.179688 179.210938 C 7.179688 224.914062 25.335938 268.746094 57.652344 301.0625 C 89.96875 333.378906 133.796875 351.53125 179.5 351.53125 C 225.203125 351.53125 269.03125 333.378906 301.347656 301.0625 C 333.664062 268.746094 351.820312 224.914062 351.820312 179.210938 Z M 351.820312 179.210938 \"/>\n",
      "</g>\n",
      "</svg>\n"
     ]
    }
   ],
   "source": [
    "ExportString[{RandomColor[], Disk[]}//Graphics, \"SVG\"]"
   ]
  },
  {
   "cell_type": "code",
   "execution_count": 19,
   "metadata": {},
   "outputs": [
    {
     "name": "stdout",
     "output_type": "stream",
     "text": [
      "http://localhost:8888/files/JWLSout/refresh.html"
     ]
    }
   ],
   "source": [
    "RandomImage[]//HoldForm//refresh"
   ]
  },
  {
   "cell_type": "code",
   "execution_count": 31,
   "metadata": {},
   "outputs": [
    {
     "name": "stdout",
     "output_type": "stream",
     "text": [
      "http://localhost:8888/files/JWLSout/manipulate.html"
     ]
    }
   ],
   "source": [
    "manipulate1[{k,RandomImage[]}//HoldForm, {k,1,10}]"
   ]
  },
  {
   "cell_type": "code",
   "execution_count": 62,
   "metadata": {},
   "outputs": [
    {
     "name": "stdout",
     "output_type": "stream",
     "text": [
      "http://localhost:8888/files/JWLSout/refresh.html"
     ]
    }
   ],
   "source": [
    "RandomGraph@{100,100} //HoldForm // refresh[#,.2]&"
   ]
  },
  {
   "cell_type": "code",
   "execution_count": 66,
   "metadata": {},
   "outputs": [
    {
     "name": "stdout",
     "output_type": "stream",
     "text": [
      "SocketListener[0a527e6a-651f-4166-99cb-b4a89fc1a53a]"
     ]
    }
   ],
   "source": [
    "$webSocket"
   ]
  },
  {
   "cell_type": "code",
   "execution_count": 65,
   "metadata": {},
   "outputs": [
    {
     "name": "stdout",
     "output_type": "stream",
     "text": [
      "SocketListener[0a527e6a-651f-4166-99cb-b4a89fc1a53a]"
     ]
    }
   ],
   "source": [
    "restartWebSocket"
   ]
  },
  {
   "cell_type": "code",
   "execution_count": null,
   "metadata": {},
   "outputs": [],
   "source": []
  }
 ],
 "metadata": {
  "kernelspec": {
   "display_name": "JWLS",
   "language": "text",
   "name": "jwls_2"
  },
  "language_info": {
   "codemirror_mode": "mathematica",
   "file_extension": ".wl",
   "mimetype": "text/x-mathematica",
   "name": "WolframScript"
  }
 },
 "nbformat": 4,
 "nbformat_minor": 2
}
