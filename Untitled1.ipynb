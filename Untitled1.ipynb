{
 "cells": [
  {
   "cell_type": "code",
   "execution_count": null,
   "metadata": {},
   "outputs": [],
   "source": [
    "2+2"
   ]
  },
  {
   "cell_type": "code",
   "execution_count": null,
   "metadata": {},
   "outputs": [],
   "source": [
    "333"
   ]
  },
  {
   "cell_type": "code",
   "execution_count": null,
   "metadata": {},
   "outputs": [],
   "source": []
  }
 ],
 "metadata": {
  "kernelspec": {
   "display_name": "JWLS",
   "language": "text",
   "name": "jwls_2"
  },
  "language_info": {
   "codemirror_mode": "mathematica",
   "file_extension": ".wl",
   "mimetype": "text/x-mathematica",
   "name": "WolframScript"
  }
 },
 "nbformat": 4,
 "nbformat_minor": 2
}
